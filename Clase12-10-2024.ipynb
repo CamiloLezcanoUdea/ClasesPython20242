{
  "nbformat": 4,
  "nbformat_minor": 0,
  "metadata": {
    "colab": {
      "provenance": [],
      "authorship_tag": "ABX9TyNjWooWT5qxDM7JKQYG+URj",
      "include_colab_link": true
    },
    "kernelspec": {
      "name": "python3",
      "display_name": "Python 3"
    },
    "language_info": {
      "name": "python"
    }
  },
  "cells": [
    {
      "cell_type": "markdown",
      "metadata": {
        "id": "view-in-github",
        "colab_type": "text"
      },
      "source": [
        "<a href=\"https://colab.research.google.com/github/CamiloLezcanoUdea/ClasesPython20242/blob/master/Clase12-10-2024.ipynb\" target=\"_parent\"><img src=\"https://colab.research.google.com/assets/colab-badge.svg\" alt=\"Open In Colab\"/></a>"
      ]
    },
    {
      "cell_type": "code",
      "execution_count": 1,
      "metadata": {
        "colab": {
          "base_uri": "https://localhost:8080/"
        },
        "id": "FR-QxNSUxH4h",
        "outputId": "8a5fa493-8a1c-491d-c99d-9ba4d4e155d8"
      },
      "outputs": [
        {
          "output_type": "stream",
          "name": "stdout",
          "text": [
            "    Name  Age          City\n",
            "0   Jhon   28      Medellin\n",
            "1    Ana   24        Bogota\n",
            "2  Pedro   35          Cali\n",
            "3  Linda   32  Barranquilla\n"
          ]
        }
      ],
      "source": [
        "import pandas as pd\n",
        "import numpy as np\n",
        "\n",
        "# 1. Crear un DataFrame\n",
        "\n",
        "data = {'Name': ['Jhon', 'Ana', 'Pedro', 'Linda'],\n",
        "        'Age': [28, 24, 35, 32],\n",
        "        'City': ['Medellin', 'Bogota', 'Cali', 'Barranquilla']}\n",
        "\n",
        "df = pd.DataFrame(data)\n",
        "print(df)"
      ]
    },
    {
      "cell_type": "code",
      "source": [
        "# 2. Leer archivo CSV\n",
        "#df2 = pd.read_csv('medicamentos.csv')"
      ],
      "metadata": {
        "id": "TagmIX-R1oCW"
      },
      "execution_count": null,
      "outputs": []
    },
    {
      "cell_type": "code",
      "source": [
        "# 3. Seleccionar columnas\n",
        "\n",
        "print(df['Name'])"
      ],
      "metadata": {
        "colab": {
          "base_uri": "https://localhost:8080/"
        },
        "id": "3s4nn7t-1-E9",
        "outputId": "c7058547-a952-4379-a075-33bb03da75ed"
      },
      "execution_count": null,
      "outputs": [
        {
          "output_type": "stream",
          "name": "stdout",
          "text": [
            "0     Jhon\n",
            "1      Ana\n",
            "2    Pedro\n",
            "3    Linda\n",
            "Name: Name, dtype: object\n"
          ]
        }
      ]
    },
    {
      "cell_type": "code",
      "source": [
        "# 4. Seleccionar filas con loc y iloc\n",
        "\n",
        "# crear etiqueta\n",
        "df['Category'] = df['Age'].apply(lambda x: 'Senior' if x >= 30 else 'Junior')\n",
        "\n",
        "print(df.loc[df['Category'] == 'Senior']) # valores por etiquetas\n",
        "print(df.iloc[3]) # valores por indice"
      ],
      "metadata": {
        "colab": {
          "base_uri": "https://localhost:8080/"
        },
        "id": "8bKyneq23xXr",
        "outputId": "4c5c6608-4907-444b-ca84-47de3b8de2d7"
      },
      "execution_count": null,
      "outputs": [
        {
          "output_type": "stream",
          "name": "stdout",
          "text": [
            "    Name  Age          City Category\n",
            "2  Pedro   35          Cali   Senior\n",
            "3  Linda   32  Barranquilla   Senior\n",
            "Name               Linda\n",
            "Age                   32\n",
            "City        Barranquilla\n",
            "Category          Senior\n",
            "Name: 3, dtype: object\n"
          ]
        }
      ]
    },
    {
      "cell_type": "code",
      "source": [
        "# 5. filtrar datos\n",
        "\n",
        "younger_than_30 = df[df['Age'] < 30]\n",
        "print(younger_than_30)"
      ],
      "metadata": {
        "colab": {
          "base_uri": "https://localhost:8080/"
        },
        "id": "S3UjmFTW4z0G",
        "outputId": "18d29362-ba69-47be-d046-1364459478dc"
      },
      "execution_count": null,
      "outputs": [
        {
          "output_type": "stream",
          "name": "stdout",
          "text": [
            "   Name  Age      City Category\n",
            "0  Jhon   28  Medellin   Junior\n",
            "1   Ana   24    Bogota   Junior\n"
          ]
        }
      ]
    },
    {
      "cell_type": "code",
      "source": [
        "# 6. Estadistica descriptiva\n",
        "\n",
        "print(df.describe())"
      ],
      "metadata": {
        "colab": {
          "base_uri": "https://localhost:8080/"
        },
        "id": "XIYar1LT7ZYN",
        "outputId": "c6ab459e-43a3-450e-d60e-4adbf17b2f47"
      },
      "execution_count": null,
      "outputs": [
        {
          "output_type": "stream",
          "name": "stdout",
          "text": [
            "             Age\n",
            "count   4.000000\n",
            "mean   29.750000\n",
            "std     4.787136\n",
            "min    24.000000\n",
            "25%    27.000000\n",
            "50%    30.000000\n",
            "75%    32.750000\n",
            "max    35.000000\n"
          ]
        }
      ]
    },
    {
      "cell_type": "code",
      "source": [
        "# 7. Agregar nuevas columnas\n",
        "\n",
        "df['Salary'] = [5000, 6000, 5800, 65000]\n",
        "df['Currency'] = 'USD'\n",
        "print(df)"
      ],
      "metadata": {
        "colab": {
          "base_uri": "https://localhost:8080/"
        },
        "id": "hIJzbnr33Szc",
        "outputId": "2fd1548e-64da-4bbd-afea-0fbfbb097a05"
      },
      "execution_count": 22,
      "outputs": [
        {
          "output_type": "stream",
          "name": "stdout",
          "text": [
            "    Name   Age          City  Salary Currency\n",
            "0   Jhon  28.0      Medellin    5000      USD\n",
            "1    Ana  24.0        Bogota    6000      USD\n",
            "2  Pedro  35.0          Cali    5800      USD\n",
            "3  Linda  32.0  Barranquilla   65000      USD\n"
          ]
        }
      ]
    },
    {
      "cell_type": "code",
      "source": [
        "# 8. Operaciones con las columnas\n",
        "\n",
        "df['Tax'] = df['Salary'] * 0.2\n",
        "print(df)"
      ],
      "metadata": {
        "colab": {
          "base_uri": "https://localhost:8080/"
        },
        "id": "rcQ0HBuJ_cPW",
        "outputId": "50b5dffd-1c30-4a44-8b87-617f7481c6f2"
      },
      "execution_count": null,
      "outputs": [
        {
          "output_type": "stream",
          "name": "stdout",
          "text": [
            "    Name  Age          City  Salary Currency      Tax\n",
            "0   Jhon   28      Medellin    5000      USD   1000.0\n",
            "1    Ana   24        Bogota    6000      USD   1200.0\n",
            "2  Pedro   35          Cali    5800      USD   1160.0\n",
            "3  Linda   32  Barranquilla   65000      USD  13000.0\n"
          ]
        }
      ]
    },
    {
      "cell_type": "code",
      "source": [
        "# 9. Eliminar columnas\n",
        "\n",
        "df = df.drop('Currency', axis=1)\n",
        "print(df)"
      ],
      "metadata": {
        "colab": {
          "base_uri": "https://localhost:8080/"
        },
        "id": "Ys_4fdc2Ac17",
        "outputId": "8eced9c4-b65b-468f-ceca-46ab58d59911"
      },
      "execution_count": null,
      "outputs": [
        {
          "output_type": "stream",
          "name": "stdout",
          "text": [
            "    Name  Age          City  Salary      Tax\n",
            "0   Jhon   28      Medellin    5000   1000.0\n",
            "1    Ana   24        Bogota    6000   1200.0\n",
            "2  Pedro   35          Cali    5800   1160.0\n",
            "3  Linda   32  Barranquilla   65000  13000.0\n"
          ]
        }
      ]
    },
    {
      "cell_type": "code",
      "source": [
        "# 10. Agrupar datos\n",
        "\n",
        "grouped = df.groupby('City')['Age'].mean()\n",
        "print(grouped)"
      ],
      "metadata": {
        "colab": {
          "base_uri": "https://localhost:8080/"
        },
        "id": "gRgTchlNA4vi",
        "outputId": "61e80249-e4c0-489f-e690-c9e263cf0437"
      },
      "execution_count": null,
      "outputs": [
        {
          "output_type": "stream",
          "name": "stdout",
          "text": [
            "City\n",
            "Barranquilla    32.0\n",
            "Bogota          24.0\n",
            "Cali            35.0\n",
            "Medellin        28.0\n",
            "Name: Age, dtype: float64\n"
          ]
        }
      ]
    },
    {
      "cell_type": "code",
      "source": [
        "# 11. Manejo de datos nulos\n",
        "\n",
        "# rellenar una columa con valores nulos\n",
        "df['Status'] = 'Active'\n",
        "df.loc[len(df) - 2, 'Status'] = np.nan\n",
        "\n",
        "df.dropna(inplace=True)\n",
        "print(df)"
      ],
      "metadata": {
        "colab": {
          "base_uri": "https://localhost:8080/"
        },
        "id": "DWh4_dnICPKc",
        "outputId": "fb1036af-d530-4f14-d81f-5db9041dd0f8"
      },
      "execution_count": null,
      "outputs": [
        {
          "output_type": "stream",
          "name": "stdout",
          "text": [
            "    Name  Age          City  Status\n",
            "0   Jhon   28      Medellin  Active\n",
            "1    Ana   24        Bogota  Active\n",
            "2  Pedro   35          Cali     NaN\n",
            "3  Linda   32  Barranquilla  Active\n"
          ]
        }
      ]
    },
    {
      "cell_type": "code",
      "source": [
        "# 12. Ordenar datos\n",
        "\n",
        "df_sorted = df.sort_values(by='Age', ascending=True)\n",
        "print(df_sorted)"
      ],
      "metadata": {
        "colab": {
          "base_uri": "https://localhost:8080/"
        },
        "id": "e2OAs_g_EKRJ",
        "outputId": "39b41b92-dd4b-4534-9058-3c5e242216ba"
      },
      "execution_count": null,
      "outputs": [
        {
          "output_type": "stream",
          "name": "stdout",
          "text": [
            "    Name  Age          City  Status\n",
            "1    Ana   24        Bogota  Active\n",
            "0   Jhon   28      Medellin  Active\n",
            "3  Linda   32  Barranquilla  Active\n",
            "2  Pedro   35          Cali     NaN\n"
          ]
        }
      ]
    },
    {
      "cell_type": "code",
      "source": [
        "# 13. Exportar DataFrame a CSV\n",
        "\n",
        "#df.to_csv('exportar.csv', index=False)"
      ],
      "metadata": {
        "id": "PurM3GmBEvaB"
      },
      "execution_count": null,
      "outputs": []
    },
    {
      "cell_type": "code",
      "source": [
        "# 14. Unir dataFrames\n",
        "\n",
        "df3 = pd.DataFrame({'A': ['A0', 'A1', 'A2'], 'B': ['B0', 'B1', 'B2']})\n",
        "df4 = pd.DataFrame({'A': ['A3', 'A4'], 'B': ['B3', 'B4']})\n",
        "\n",
        "result = pd.concat([df3, df4], ignore_index=True)\n",
        "print(result)"
      ],
      "metadata": {
        "colab": {
          "base_uri": "https://localhost:8080/"
        },
        "id": "pf8ob8VJFST1",
        "outputId": "82489303-9bb1-40a0-ee19-79a8c9dd9e81"
      },
      "execution_count": null,
      "outputs": [
        {
          "output_type": "stream",
          "name": "stdout",
          "text": [
            "    A   B\n",
            "0  A0  B0\n",
            "1  A1  B1\n",
            "2  A2  B2\n",
            "3  A3  B3\n",
            "4  A4  B4\n"
          ]
        }
      ]
    },
    {
      "cell_type": "code",
      "source": [
        "# 15.  Añadir funciones con apply\n",
        "\n",
        "def age_in_days(age):\n",
        "  return age * 365\n",
        "\n",
        "df['Age_in_days'] = df['Age'].apply(age_in_days)\n",
        "print(df)"
      ],
      "metadata": {
        "colab": {
          "base_uri": "https://localhost:8080/"
        },
        "id": "CkVy9ks4HoIo",
        "outputId": "8d03f1c3-3b82-45f5-8e1b-7c45d1230670"
      },
      "execution_count": null,
      "outputs": [
        {
          "output_type": "stream",
          "name": "stdout",
          "text": [
            "    Name  Age          City  Status  Age_in_days\n",
            "0   Jhon   28      Medellin  Active        10220\n",
            "1    Ana   24        Bogota  Active         8760\n",
            "2  Pedro   35          Cali     NaN        12775\n",
            "3  Linda   32  Barranquilla  Active        11680\n"
          ]
        }
      ]
    },
    {
      "cell_type": "code",
      "source": [
        "# 16. Crear columna con Lambda\n",
        "\n",
        "df['Category'] = df['Age'].apply(lambda x: 'Senior' if x >= 30 else 'Junior')\n",
        "print(df)"
      ],
      "metadata": {
        "colab": {
          "base_uri": "https://localhost:8080/"
        },
        "id": "TxJxWgg9Igy6",
        "outputId": "528a4ef5-1e8f-42ef-822d-f5c1e1a7140d"
      },
      "execution_count": null,
      "outputs": [
        {
          "output_type": "stream",
          "name": "stdout",
          "text": [
            "    Name  Age          City  Status  Age_in_days Category\n",
            "0   Jhon   28      Medellin  Active        10220   Junior\n",
            "1    Ana   24        Bogota  Active         8760   Junior\n",
            "2  Pedro   35          Cali     NaN        12775   Senior\n",
            "3  Linda   32  Barranquilla  Active        11680   Senior\n"
          ]
        }
      ]
    },
    {
      "cell_type": "code",
      "source": [
        "# 17. pivot tablas\n",
        "\n",
        "data_sales = {'City': ['Medellin', 'Bogota', 'Medellin', 'Bogota', 'Medellin', 'Bogota'],\n",
        "        'Sales': [100, 140, 160, 200, 230, 150],\n",
        "        'Year': [2020, 2020, 2021, 2021, 2022, 2022]}\n",
        "\n",
        "df_sales = pd.DataFrame(data_sales)\n",
        "\n",
        "pivot_table = pd.pivot_table(df_sales, values= 'Sales', index='City', columns='Year', aggfunc='sum')\n",
        "print(df_sales)\n",
        "print(\"--------------------------------------\")\n",
        "print(pivot_table)"
      ],
      "metadata": {
        "colab": {
          "base_uri": "https://localhost:8080/"
        },
        "id": "OsF_9drLJb8R",
        "outputId": "ee838faa-520d-4838-c07a-e41a6e49203f"
      },
      "execution_count": null,
      "outputs": [
        {
          "output_type": "stream",
          "name": "stdout",
          "text": [
            "       City  Sales  Year\n",
            "0  Medellin    100  2020\n",
            "1    Bogota    140  2020\n",
            "2  Medellin    160  2021\n",
            "3    Bogota    200  2021\n",
            "4  Medellin    230  2022\n",
            "5    Bogota    150  2022\n",
            "--------------------------------------\n",
            "Year      2020  2021  2022\n",
            "City                      \n",
            "Bogota     140   200   150\n",
            "Medellin   100   160   230\n"
          ]
        }
      ]
    },
    {
      "cell_type": "code",
      "source": [
        "# 18. merge DataFrame\n",
        "\n",
        "df5 =pd.DataFrame({'Key': ['A', 'B', 'C'], 'value1': [1, 2, 3]})\n",
        "df6 =pd.DataFrame({'Key': ['A', 'B', 'C'], 'value2': [4, 5, 6]})\n",
        "\n",
        "merged = pd.merge(df5, df6, on='Key', how='outer')\n",
        "print(merged)"
      ],
      "metadata": {
        "colab": {
          "base_uri": "https://localhost:8080/"
        },
        "id": "p1JDUe9gL8N7",
        "outputId": "d4434f53-cf40-4a85-9ac4-fd3876961efd"
      },
      "execution_count": null,
      "outputs": [
        {
          "output_type": "stream",
          "name": "stdout",
          "text": [
            "  Key  value1  value2\n",
            "0   A       1       4\n",
            "1   B       2       5\n",
            "2   C       3       6\n"
          ]
        }
      ]
    },
    {
      "cell_type": "code",
      "source": [
        "# 19. cambiar el nombre de las columnas\n",
        "\n",
        "df.rename(columns={'Name': 'Full Name', 'Age': 'Old'}, inplace=True)\n",
        "print(df)"
      ],
      "metadata": {
        "colab": {
          "base_uri": "https://localhost:8080/"
        },
        "id": "e3O4wUrqMYNu",
        "outputId": "5532d80d-e67b-46c3-cd60-3fd161507fa1"
      },
      "execution_count": null,
      "outputs": [
        {
          "output_type": "stream",
          "name": "stdout",
          "text": [
            "  Full Name  Old          City  Status  Age_in_days Category\n",
            "0      Jhon   28      Medellin  Active        10220   Junior\n",
            "1       Ana   24        Bogota  Active         8760   Junior\n",
            "2     Pedro   35          Cali     NaN        12775   Senior\n",
            "3     Linda   32  Barranquilla  Active        11680   Senior\n"
          ]
        }
      ]
    },
    {
      "cell_type": "code",
      "source": [
        "# 20. Operaciones entre columnas\n",
        "\n",
        "df['Net_Salary'] = df['Salary'] - (df['Salary'] * 0.2)\n",
        "print(df)"
      ],
      "metadata": {
        "colab": {
          "base_uri": "https://localhost:8080/"
        },
        "id": "r-8BPEMiNg_T",
        "outputId": "8f7699bc-82a3-4d03-84a9-606d22c52d32"
      },
      "execution_count": null,
      "outputs": [
        {
          "output_type": "stream",
          "name": "stdout",
          "text": [
            "  Full Name  Old          City  Status  Age_in_days Category  Salary Currency  \\\n",
            "0      Jhon   28      Medellin  Active        10220   Junior    5000      USD   \n",
            "1       Ana   24        Bogota  Active         8760   Junior    6000      USD   \n",
            "2     Pedro   35          Cali     NaN        12775   Senior    5800      USD   \n",
            "3     Linda   32  Barranquilla  Active        11680   Senior   65000      USD   \n",
            "\n",
            "   Net_Salary  \n",
            "0      4000.0  \n",
            "1      4800.0  \n",
            "2      4640.0  \n",
            "3     52000.0  \n"
          ]
        }
      ]
    },
    {
      "cell_type": "code",
      "source": [
        "# 21. datos por fechas\n",
        "\n",
        "date_rng = pd.date_range(start='2022-01-01', end='2022-01-18', freq='D')\n",
        "df_dates = pd.DataFrame(date_rng, columns=['date'])\n",
        "df_dates['data'] = pd.Series(range(10))\n",
        "\n",
        "df_dates.set_index('date', inplace=True)\n",
        "resampled = df_dates.resample('3D').sum()\n",
        "print(resampled)"
      ],
      "metadata": {
        "colab": {
          "base_uri": "https://localhost:8080/"
        },
        "id": "M5yqHDtG7pxN",
        "outputId": "4bf03173-b963-4842-c21c-5f02417f82a2"
      },
      "execution_count": 5,
      "outputs": [
        {
          "output_type": "stream",
          "name": "stdout",
          "text": [
            "            data\n",
            "date            \n",
            "2022-01-01   3.0\n",
            "2022-01-04  12.0\n",
            "2022-01-07  21.0\n",
            "2022-01-10   9.0\n",
            "2022-01-13   0.0\n",
            "2022-01-16   0.0\n"
          ]
        }
      ]
    },
    {
      "cell_type": "code",
      "source": [
        "# 22. Manejo de tipos de datos\n",
        "\n",
        "df['Age'] = df['Age'].astype(float)\n",
        "print(df.dtypes)"
      ],
      "metadata": {
        "colab": {
          "base_uri": "https://localhost:8080/"
        },
        "id": "fM6iSkKL-oul",
        "outputId": "3f143897-472d-40bf-f7b6-09830478b56d"
      },
      "execution_count": 12,
      "outputs": [
        {
          "output_type": "stream",
          "name": "stdout",
          "text": [
            "Name     object\n",
            "Age     float64\n",
            "City     object\n",
            "dtype: object\n"
          ]
        }
      ]
    },
    {
      "cell_type": "code",
      "source": [
        "# 23. crear dataframe  desde excel xlsx\n",
        "\n",
        "#df_from_excel = pd.read_excel('data.xlsx', sheet_name='Sheet1')\n",
        "#print(df_from_excel)"
      ],
      "metadata": {
        "id": "yzq9B0bq_S8Z"
      },
      "execution_count": 14,
      "outputs": []
    },
    {
      "cell_type": "code",
      "source": [
        "# 24. remover duplicados\n",
        "\n",
        "df_no_duplicates = df.drop_duplicates(subset='Name')\n",
        "print(df_no_duplicates)"
      ],
      "metadata": {
        "colab": {
          "base_uri": "https://localhost:8080/"
        },
        "id": "LeQsDEfYACBR",
        "outputId": "f931d663-2591-42f1-d62e-07f2bb3a5696"
      },
      "execution_count": 15,
      "outputs": [
        {
          "output_type": "stream",
          "name": "stdout",
          "text": [
            "    Name   Age          City\n",
            "0   Jhon  28.0      Medellin\n",
            "1    Ana  24.0        Bogota\n",
            "2  Pedro  35.0          Cali\n",
            "3  Linda  32.0  Barranquilla\n"
          ]
        }
      ]
    },
    {
      "cell_type": "code",
      "source": [
        "# 25. indexacion por jerarquia\n",
        "\n",
        "arrays = [['A', 'A', 'B', 'B'], ['one', 'two', 'one', 'two']]\n",
        "index = pd.MultiIndex.from_arrays(arrays, names=('Letter', 'Number'))\n",
        "df_multi = pd.DataFrame({'Values': [10, 20, 30, 40]}, index=index)\n",
        "print(df_multi)"
      ],
      "metadata": {
        "colab": {
          "base_uri": "https://localhost:8080/"
        },
        "id": "BhVXXng_BEHV",
        "outputId": "3967ecae-83ad-40cb-e680-0b58122231f1"
      },
      "execution_count": 16,
      "outputs": [
        {
          "output_type": "stream",
          "name": "stdout",
          "text": [
            "               Values\n",
            "Letter Number        \n",
            "A      one         10\n",
            "       two         20\n",
            "B      one         30\n",
            "       two         40\n"
          ]
        }
      ]
    },
    {
      "cell_type": "code",
      "source": [
        "# 26. buscar valores especificos\n",
        "\n",
        "print(df[df['City'] == 'Medellin'])"
      ],
      "metadata": {
        "colab": {
          "base_uri": "https://localhost:8080/"
        },
        "id": "eB-aOTIbCqP3",
        "outputId": "7eb7446e-6723-4264-fff7-30f7988094cd"
      },
      "execution_count": 20,
      "outputs": [
        {
          "output_type": "stream",
          "name": "stdout",
          "text": [
            "   Name   Age      City\n",
            "0  Jhon  28.0  Medellin\n"
          ]
        }
      ]
    },
    {
      "cell_type": "code",
      "source": [
        "# 27. calculos acumulativos\n",
        "\n",
        "df['Cumulative_Salary'] = df['Salary'].cumsum()\n",
        "print(df)"
      ],
      "metadata": {
        "colab": {
          "base_uri": "https://localhost:8080/"
        },
        "id": "0c4u1QowDJFb",
        "outputId": "c8bf9194-abee-4180-a046-aa5d2030ac0e"
      },
      "execution_count": 23,
      "outputs": [
        {
          "output_type": "stream",
          "name": "stdout",
          "text": [
            "    Name   Age          City  Salary Currency  Cumulative_Salary\n",
            "0   Jhon  28.0      Medellin    5000      USD               5000\n",
            "1    Ana  24.0        Bogota    6000      USD              11000\n",
            "2  Pedro  35.0          Cali    5800      USD              16800\n",
            "3  Linda  32.0  Barranquilla   65000      USD              81800\n"
          ]
        }
      ]
    },
    {
      "cell_type": "code",
      "source": [
        "# 28. correlaciones\n",
        "\n",
        "print(df[['Age', 'Salary']].corr())"
      ],
      "metadata": {
        "colab": {
          "base_uri": "https://localhost:8080/"
        },
        "id": "PTSxin6WEP0x",
        "outputId": "c13c8498-b3d6-4cb0-9824-e80711976f5f"
      },
      "execution_count": 24,
      "outputs": [
        {
          "output_type": "stream",
          "name": "stdout",
          "text": [
            "             Age    Salary\n",
            "Age     1.000000  0.312838\n",
            "Salary  0.312838  1.000000\n"
          ]
        }
      ]
    },
    {
      "cell_type": "code",
      "source": [
        "# 29. mostrar cantidad limitada de filas\n",
        "\n",
        "print(df.head(2))\n",
        "print(df.tail(2))"
      ],
      "metadata": {
        "colab": {
          "base_uri": "https://localhost:8080/"
        },
        "id": "6qn_AbcHE725",
        "outputId": "8a933054-8c1b-488d-b3e1-90c81e119c68"
      },
      "execution_count": 25,
      "outputs": [
        {
          "output_type": "stream",
          "name": "stdout",
          "text": [
            "   Name   Age      City  Salary Currency  Cumulative_Salary\n",
            "0  Jhon  28.0  Medellin    5000      USD               5000\n",
            "1   Ana  24.0    Bogota    6000      USD              11000\n",
            "    Name   Age          City  Salary Currency  Cumulative_Salary\n",
            "2  Pedro  35.0          Cali    5800      USD              16800\n",
            "3  Linda  32.0  Barranquilla   65000      USD              81800\n"
          ]
        }
      ]
    }
  ]
}