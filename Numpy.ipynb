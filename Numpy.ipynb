{
  "nbformat": 4,
  "nbformat_minor": 0,
  "metadata": {
    "colab": {
      "provenance": [],
      "authorship_tag": "ABX9TyMlFIumbNvoAA/0wCx1HvAQ",
      "include_colab_link": true
    },
    "kernelspec": {
      "name": "python3",
      "display_name": "Python 3"
    },
    "language_info": {
      "name": "python"
    }
  },
  "cells": [
    {
      "cell_type": "markdown",
      "metadata": {
        "id": "view-in-github",
        "colab_type": "text"
      },
      "source": [
        "<a href=\"https://colab.research.google.com/github/CamiloLezcanoUdea/ClasesPython20242/blob/master/Numpy.ipynb\" target=\"_parent\"><img src=\"https://colab.research.google.com/assets/colab-badge.svg\" alt=\"Open In Colab\"/></a>"
      ]
    },
    {
      "cell_type": "code",
      "execution_count": 1,
      "metadata": {
        "colab": {
          "base_uri": "https://localhost:8080/"
        },
        "id": "zyIcDDRr_CsM",
        "outputId": "e5ada487-387f-48c0-c635-5d9e9bca0f31"
      },
      "outputs": [
        {
          "output_type": "stream",
          "name": "stdout",
          "text": [
            "[1 2 3 4 5 6]\n"
          ]
        }
      ],
      "source": [
        "import numpy as np\n",
        "\n",
        "#1. Crear un array de una dimensión\n",
        "array1 = np.array([1, 2, 3, 4, 5, 6])\n",
        "print(array1)"
      ]
    },
    {
      "cell_type": "code",
      "source": [
        "#2. Crear un array de 2 dimensiones\n",
        "array2 = np.array([[1, 2, 3], [4, 5, 6]])\n",
        "print(array2)"
      ],
      "metadata": {
        "colab": {
          "base_uri": "https://localhost:8080/"
        },
        "id": "RJhH1guCBZhE",
        "outputId": "87b68391-546d-467b-d5f3-274055c5ce5c"
      },
      "execution_count": 4,
      "outputs": [
        {
          "output_type": "stream",
          "name": "stdout",
          "text": [
            "[[1 2 3]\n",
            " [4 5 6]]\n"
          ]
        }
      ]
    },
    {
      "cell_type": "code",
      "source": [
        "#3. Crear un array de ceros\n",
        "zeros = np.zeros((5, 5))\n",
        "print(zeros)"
      ],
      "metadata": {
        "colab": {
          "base_uri": "https://localhost:8080/"
        },
        "id": "2iBGrPHrBZh3",
        "outputId": "d94142b0-a7e8-4e27-8a6a-1ea6f52d780f"
      },
      "execution_count": 6,
      "outputs": [
        {
          "output_type": "stream",
          "name": "stdout",
          "text": [
            "[[0. 0. 0. 0. 0.]\n",
            " [0. 0. 0. 0. 0.]\n",
            " [0. 0. 0. 0. 0.]\n",
            " [0. 0. 0. 0. 0.]\n",
            " [0. 0. 0. 0. 0.]]\n"
          ]
        }
      ]
    },
    {
      "cell_type": "code",
      "source": [
        "#4. crear array de unos\n",
        "ones = np.ones((3, 6))\n",
        "print(ones)"
      ],
      "metadata": {
        "colab": {
          "base_uri": "https://localhost:8080/"
        },
        "id": "LonYxU-DBZif",
        "outputId": "e6f05395-48d3-448c-9f40-658fc1c786cc"
      },
      "execution_count": 7,
      "outputs": [
        {
          "output_type": "stream",
          "name": "stdout",
          "text": [
            "[[1. 1. 1. 1. 1. 1.]\n",
            " [1. 1. 1. 1. 1. 1.]\n",
            " [1. 1. 1. 1. 1. 1.]]\n"
          ]
        }
      ]
    },
    {
      "cell_type": "code",
      "source": [
        "#5. crear un array vacio\n",
        "empty_array = np.empty((2, 3))\n",
        "print(empty_array)"
      ],
      "metadata": {
        "colab": {
          "base_uri": "https://localhost:8080/"
        },
        "id": "nEIHLZ3QCudN",
        "outputId": "3cd9af4d-2729-48af-fccb-d373fb798913"
      },
      "execution_count": 8,
      "outputs": [
        {
          "output_type": "stream",
          "name": "stdout",
          "text": [
            "[[4.9e-324 9.9e-324 1.5e-323]\n",
            " [2.0e-323 2.5e-323 3.0e-323]]\n"
          ]
        }
      ]
    },
    {
      "cell_type": "code",
      "source": [
        "#6. crear un array con u nrango de numeros\n",
        "range_array = np.arange(11)\n",
        "print(range_array)"
      ],
      "metadata": {
        "colab": {
          "base_uri": "https://localhost:8080/"
        },
        "id": "07NMsh2lDOYY",
        "outputId": "e16bfd0f-98bc-4c48-8f65-e8fbb0fbb3eb"
      },
      "execution_count": 10,
      "outputs": [
        {
          "output_type": "stream",
          "name": "stdout",
          "text": [
            "[ 0  1  2  3  4  5  6  7  8  9 10]\n"
          ]
        }
      ]
    },
    {
      "cell_type": "code",
      "source": [
        "#7. crear array con un rango y un paso\n",
        "range_step_array = np.arange(1, 10, 3)\n",
        "print(range_step_array)"
      ],
      "metadata": {
        "colab": {
          "base_uri": "https://localhost:8080/"
        },
        "id": "QxnJtsSnDo6s",
        "outputId": "7ca2fb3f-9060-4a83-ae9d-bc2fa5794843"
      },
      "execution_count": 13,
      "outputs": [
        {
          "output_type": "stream",
          "name": "stdout",
          "text": [
            "[1 4 7]\n"
          ]
        }
      ]
    },
    {
      "cell_type": "code",
      "source": [
        "#8. crear un array de valores aleatorios\n",
        "random_array = np.random.rand(4, 3)\n",
        "print(random_array)"
      ],
      "metadata": {
        "colab": {
          "base_uri": "https://localhost:8080/"
        },
        "id": "PXQRvfkaDp4k",
        "outputId": "45701483-7c6c-4256-cab0-c8071893a1c7"
      },
      "execution_count": 15,
      "outputs": [
        {
          "output_type": "stream",
          "name": "stdout",
          "text": [
            "[[0.19855977 0.2348883  0.1854794 ]\n",
            " [0.16523565 0.44320868 0.43018757]\n",
            " [0.71233964 0.57457201 0.69674474]\n",
            " [0.41977336 0.75562428 0.80238006]]\n"
          ]
        }
      ]
    },
    {
      "cell_type": "code",
      "source": [
        "#9. crear un array de valores aleatorios enteros\n",
        "random_int_array = np.random.randint(0, 10, (3, 3))\n",
        "print(random_int_array)"
      ],
      "metadata": {
        "colab": {
          "base_uri": "https://localhost:8080/"
        },
        "id": "rqTvy_zYDp5T",
        "outputId": "fca1f6dc-a168-497c-98c4-1b1315903f84"
      },
      "execution_count": 16,
      "outputs": [
        {
          "output_type": "stream",
          "name": "stdout",
          "text": [
            "[[1 9 6]\n",
            " [6 2 3]\n",
            " [9 9 0]]\n"
          ]
        }
      ]
    },
    {
      "cell_type": "code",
      "source": [
        "#10. crear un array de numeros en intervalos\n",
        "linespace_array = np.linspace(0, 1, 5)\n",
        "print(linespace_array)"
      ],
      "metadata": {
        "colab": {
          "base_uri": "https://localhost:8080/"
        },
        "id": "MO59aIqDF3CM",
        "outputId": "e4476e37-b490-4a1f-a675-190bc56e35c1"
      },
      "execution_count": 18,
      "outputs": [
        {
          "output_type": "stream",
          "name": "stdout",
          "text": [
            "[0.   0.25 0.5  0.75 1.  ]\n"
          ]
        }
      ]
    },
    {
      "cell_type": "code",
      "source": [
        "#11. cambiar la forma de un array\n",
        "reshaped_array = np.reshape(array2, (3, 2))\n",
        "print(reshaped_array)"
      ],
      "metadata": {
        "colab": {
          "base_uri": "https://localhost:8080/"
        },
        "id": "mORpI2lfF3Db",
        "outputId": "bf670b7c-a589-40da-ab2b-f9fd70616a58"
      },
      "execution_count": 19,
      "outputs": [
        {
          "output_type": "stream",
          "name": "stdout",
          "text": [
            "[[1 2]\n",
            " [3 4]\n",
            " [5 6]]\n"
          ]
        }
      ]
    },
    {
      "cell_type": "code",
      "source": [
        "#12. como dterminar la forma de un array\n",
        "print(reshaped_array.shape)"
      ],
      "metadata": {
        "colab": {
          "base_uri": "https://localhost:8080/"
        },
        "id": "5Uo1UGxkHHpt",
        "outputId": "64e6b0d5-c1c6-48ec-e5cd-40359048d6f7"
      },
      "execution_count": 21,
      "outputs": [
        {
          "output_type": "stream",
          "name": "stdout",
          "text": [
            "(3, 2)\n"
          ]
        }
      ]
    },
    {
      "cell_type": "code",
      "source": [
        "#13. numero dimensiones de un array\n",
        "print(reshaped_array.ndim)"
      ],
      "metadata": {
        "colab": {
          "base_uri": "https://localhost:8080/"
        },
        "id": "8y-zNwLNHsYQ",
        "outputId": "72e828a5-bf9e-4f52-a825-11257e4e3137"
      },
      "execution_count": 23,
      "outputs": [
        {
          "output_type": "stream",
          "name": "stdout",
          "text": [
            "2\n"
          ]
        }
      ]
    },
    {
      "cell_type": "code",
      "source": [
        "#14. tamaño de un array\n",
        "print(array2.size)"
      ],
      "metadata": {
        "colab": {
          "base_uri": "https://localhost:8080/"
        },
        "id": "LN2DCKs9INim",
        "outputId": "f2175b03-3be4-44bb-8c4c-84595f4453a5"
      },
      "execution_count": 24,
      "outputs": [
        {
          "output_type": "stream",
          "name": "stdout",
          "text": [
            "6\n"
          ]
        }
      ]
    },
    {
      "cell_type": "code",
      "source": [
        "#15. tipos de datos del array\n",
        "print(array2.dtype)"
      ],
      "metadata": {
        "colab": {
          "base_uri": "https://localhost:8080/"
        },
        "id": "XVmfRwHbJ453",
        "outputId": "be83d7c2-1e13-42ed-d737-f9aa114e75b0"
      },
      "execution_count": 25,
      "outputs": [
        {
          "output_type": "stream",
          "name": "stdout",
          "text": [
            "int64\n"
          ]
        }
      ]
    },
    {
      "cell_type": "code",
      "source": [
        "#16. convertir el tipo de datos de un array\n",
        "float_array = array2.astype(object)\n",
        "print(float_array)"
      ],
      "metadata": {
        "colab": {
          "base_uri": "https://localhost:8080/"
        },
        "id": "Y4aV4UUEKfxU",
        "outputId": "359c4dae-2974-4116-b57f-c65f738c0eff"
      },
      "execution_count": 28,
      "outputs": [
        {
          "output_type": "stream",
          "name": "stdout",
          "text": [
            "[[1 2 3]\n",
            " [4 5 6]]\n"
          ]
        }
      ]
    },
    {
      "cell_type": "code",
      "source": [
        "#17. sumar todos los elementos de un array\n",
        "sum_all = np.sum(array2)\n",
        "print(sum_all)"
      ],
      "metadata": {
        "colab": {
          "base_uri": "https://localhost:8080/"
        },
        "id": "YQ3Pl4LVKfyG",
        "outputId": "acc81986-e831-410d-f374-9c334b637850"
      },
      "execution_count": 29,
      "outputs": [
        {
          "output_type": "stream",
          "name": "stdout",
          "text": [
            "21\n"
          ]
        }
      ]
    },
    {
      "cell_type": "code",
      "source": [
        "#18. sumar los elementos a lo largo de una dimension\n",
        "sum_axis_0 = np.sum(array2, axis=0)\n",
        "print(sum_axis_0)"
      ],
      "metadata": {
        "colab": {
          "base_uri": "https://localhost:8080/"
        },
        "id": "jnwxTGCCMRj_",
        "outputId": "a835c5cb-1539-43e2-85c7-86a28b1614ec"
      },
      "execution_count": 30,
      "outputs": [
        {
          "output_type": "stream",
          "name": "stdout",
          "text": [
            "[5 7 9]\n"
          ]
        }
      ]
    },
    {
      "cell_type": "code",
      "source": [
        "#19. calcular el promedio array\n",
        "mean_value = np.mean(array2)\n",
        "print(mean_value)"
      ],
      "metadata": {
        "colab": {
          "base_uri": "https://localhost:8080/"
        },
        "id": "9IRkuVjHM34Y",
        "outputId": "90d6aef6-5023-43c8-98cc-06c32f32b010"
      },
      "execution_count": 31,
      "outputs": [
        {
          "output_type": "stream",
          "name": "stdout",
          "text": [
            "3.5\n"
          ]
        }
      ]
    },
    {
      "cell_type": "code",
      "source": [
        "#20. calcular la mediana de un array\n",
        "median_value = np.median(array2)\n",
        "print(median_value)"
      ],
      "metadata": {
        "colab": {
          "base_uri": "https://localhost:8080/"
        },
        "id": "CHXQ-6sENJ4b",
        "outputId": "efc6c42e-fb96-4ee7-fc32-0b1703e506ef"
      },
      "execution_count": 32,
      "outputs": [
        {
          "output_type": "stream",
          "name": "stdout",
          "text": [
            "3.5\n"
          ]
        }
      ]
    },
    {
      "cell_type": "code",
      "source": [
        "#21. calcular el valores minimo y maximo\n",
        "max_array = np.max(array2)\n",
        "min_array = np.min(array2)\n",
        "print(min_array, max_array)"
      ],
      "metadata": {
        "colab": {
          "base_uri": "https://localhost:8080/"
        },
        "id": "j8rbfg94NJ5X",
        "outputId": "b2490e64-5640-41ba-fbee-8a2a8fb2a147"
      },
      "execution_count": 33,
      "outputs": [
        {
          "output_type": "stream",
          "name": "stdout",
          "text": [
            "1 6\n"
          ]
        }
      ]
    },
    {
      "cell_type": "code",
      "source": [
        "#22. calcular la desviacion estandar\n",
        "std_dev = np.std(array2)\n",
        "print(std_dev)"
      ],
      "metadata": {
        "colab": {
          "base_uri": "https://localhost:8080/"
        },
        "id": "vMEl4zYpNyY0",
        "outputId": "8276f8a8-5227-41ec-bdca-615f820bb20c"
      },
      "execution_count": 34,
      "outputs": [
        {
          "output_type": "stream",
          "name": "stdout",
          "text": [
            "1.707825127659933\n"
          ]
        }
      ]
    },
    {
      "cell_type": "code",
      "source": [
        "#23. encontrar el indice del valor maximo\n",
        "max_index = np.argmax(array2)\n",
        "print(max_index)"
      ],
      "metadata": {
        "colab": {
          "base_uri": "https://localhost:8080/"
        },
        "id": "yGUICF79NyZu",
        "outputId": "e25c259d-4c58-489d-e800-0604bca32f35"
      },
      "execution_count": 36,
      "outputs": [
        {
          "output_type": "stream",
          "name": "stdout",
          "text": [
            "5\n"
          ]
        }
      ]
    },
    {
      "cell_type": "code",
      "source": [
        "#24. encontrar el indice del valor minimo\n",
        "min_index = np.argmin(array2)\n",
        "print(min_index)"
      ],
      "metadata": {
        "colab": {
          "base_uri": "https://localhost:8080/"
        },
        "id": "JxETWGA4Oj9A",
        "outputId": "6652f633-81ae-463b-e7c1-ff9f2033ca3f"
      },
      "execution_count": 37,
      "outputs": [
        {
          "output_type": "stream",
          "name": "stdout",
          "text": [
            "0\n"
          ]
        }
      ]
    },
    {
      "cell_type": "code",
      "source": [
        "#25. indexacion de un array\n",
        "print(array1[5])"
      ],
      "metadata": {
        "colab": {
          "base_uri": "https://localhost:8080/"
        },
        "id": "-EiLeNcjO3xD",
        "outputId": "de95be88-235f-406c-a409-7f4fbcf759d7"
      },
      "execution_count": 44,
      "outputs": [
        {
          "output_type": "stream",
          "name": "stdout",
          "text": [
            "6\n"
          ]
        }
      ]
    },
    {
      "cell_type": "code",
      "source": [
        "#26. indexacion de un array de 2D\n",
        "print(array2)\n",
        "print(array2[0, 1])"
      ],
      "metadata": {
        "colab": {
          "base_uri": "https://localhost:8080/"
        },
        "id": "RNV3NdmYSNQt",
        "outputId": "06710e3b-1e9d-4232-eadf-4bebad8828b6"
      },
      "execution_count": 47,
      "outputs": [
        {
          "output_type": "stream",
          "name": "stdout",
          "text": [
            "[[1 2 3]\n",
            " [4 5 6]]\n",
            "2\n"
          ]
        }
      ]
    },
    {
      "cell_type": "code",
      "source": [
        "#27. Slicing de un array\n",
        "scliced_array = array1[1:5]\n",
        "print(scliced_array)"
      ],
      "metadata": {
        "colab": {
          "base_uri": "https://localhost:8080/"
        },
        "id": "eED3xb0WSzrU",
        "outputId": "696e4e30-bb0c-4000-86b7-e46a53c623b6"
      },
      "execution_count": 49,
      "outputs": [
        {
          "output_type": "stream",
          "name": "stdout",
          "text": [
            "[2 3 4 5]\n"
          ]
        }
      ]
    },
    {
      "cell_type": "code",
      "source": [
        "#28. invertir un array\n",
        "reversed_array = array1[::-1]\n",
        "print(reversed_array)"
      ],
      "metadata": {
        "colab": {
          "base_uri": "https://localhost:8080/"
        },
        "id": "qOmLOL0CTPp5",
        "outputId": "2ae7ffa9-35b0-4198-fc7a-8b1a343c3e4b"
      },
      "execution_count": 51,
      "outputs": [
        {
          "output_type": "stream",
          "name": "stdout",
          "text": [
            "[6 5 4 3 2 1]\n"
          ]
        }
      ]
    },
    {
      "cell_type": "code",
      "source": [
        "#29. indexacion booleana\n",
        "filtered_array = array1[array1 < 3]\n",
        "print(filtered_array)"
      ],
      "metadata": {
        "colab": {
          "base_uri": "https://localhost:8080/"
        },
        "id": "EMf9-687TPq5",
        "outputId": "8b9ce9f9-b73d-4f01-ea94-0274c85f6d9c"
      },
      "execution_count": 53,
      "outputs": [
        {
          "output_type": "stream",
          "name": "stdout",
          "text": [
            "[1 2]\n"
          ]
        }
      ]
    },
    {
      "cell_type": "code",
      "source": [
        "#30. sumar arrays\n",
        "added_arrays = array1 + np.array([5, 5, 5, 5, 5, 5])\n",
        "print(added_arrays)"
      ],
      "metadata": {
        "colab": {
          "base_uri": "https://localhost:8080/"
        },
        "id": "1HPmlSoOTzhn",
        "outputId": "56d5f128-ebcc-4e5f-e7c6-9fc7c404fb87"
      },
      "execution_count": 59,
      "outputs": [
        {
          "output_type": "stream",
          "name": "stdout",
          "text": [
            "[ 6  7  8  9 10 11]\n"
          ]
        }
      ]
    },
    {
      "cell_type": "code",
      "source": [
        "#31. restar arrays\n",
        "subtracted_arrays = array1 - np.array([1, 1, 1, 1, 1, 1])\n",
        "print(subtracted_arrays)"
      ],
      "metadata": {
        "colab": {
          "base_uri": "https://localhost:8080/"
        },
        "id": "Jk6wGm5JUlE6",
        "outputId": "e70c7c62-fd54-4c9d-9860-7d5bff3d94b0"
      },
      "execution_count": 61,
      "outputs": [
        {
          "output_type": "stream",
          "name": "stdout",
          "text": [
            "[0 1 2 3 4 5]\n"
          ]
        }
      ]
    },
    {
      "cell_type": "code",
      "source": [
        "#32. multiplicar arrays\n",
        "multiplied_arrays = array1 * np.array([2, 2, 2, 2, 2, 2])\n",
        "print(multiplied_arrays)"
      ],
      "metadata": {
        "colab": {
          "base_uri": "https://localhost:8080/"
        },
        "id": "r8mGTfHQU4IO",
        "outputId": "24622ac8-1b7e-4b15-9f22-d900ee0698da"
      },
      "execution_count": 62,
      "outputs": [
        {
          "output_type": "stream",
          "name": "stdout",
          "text": [
            "[ 2  4  6  8 10 12]\n"
          ]
        }
      ]
    },
    {
      "cell_type": "code",
      "source": [
        "#33. division de arrays\n",
        "divided_arrays = array1 / 2\n",
        "print(divided_arrays)"
      ],
      "metadata": {
        "colab": {
          "base_uri": "https://localhost:8080/"
        },
        "id": "vleZNS9cVKMX",
        "outputId": "1a3e4b12-f483-4ffe-c466-5fce66227396"
      },
      "execution_count": 63,
      "outputs": [
        {
          "output_type": "stream",
          "name": "stdout",
          "text": [
            "[0.5 1.  1.5 2.  2.5 3. ]\n"
          ]
        }
      ]
    },
    {
      "cell_type": "code",
      "source": [
        "#34. calcular el producto de matrices\n",
        "matrix_product = np.dot(array2, np.array([[1,2], [3,4], [5,6]]))\n",
        "print(array2)\n",
        "print(\"***************\")\n",
        "print(np.array([[1,2], [3,4], [5,6]]))\n",
        "print(\"***************\")\n",
        "print(\"[0,0] = [1*1 + 2*3 + 3*5] = 22\")\n",
        "print(\"[0,1] = [1*2 + 2*4 + 3*6] = 28\")\n",
        "print(\"[1,0] = [4*1 + 5*3 + 6*5] = 49\")\n",
        "print(\"[1,1] = [4*2 + 5*4 + 6*6] = 64\")\n",
        "print(\"***************\")\n",
        "print(matrix_product)"
      ],
      "metadata": {
        "colab": {
          "base_uri": "https://localhost:8080/"
        },
        "id": "N2yKnSK9VKNK",
        "outputId": "0750f339-c790-47b8-d265-728a91c5e5d4"
      },
      "execution_count": 71,
      "outputs": [
        {
          "output_type": "stream",
          "name": "stdout",
          "text": [
            "[[1 2 3]\n",
            " [4 5 6]]\n",
            "***************\n",
            "[[1 2]\n",
            " [3 4]\n",
            " [5 6]]\n",
            "***************\n",
            "[0,0] = [1*1 + 2*3 + 3*5] = 22\n",
            "[0,1] = [1*2 + 2*4 + 3*6] = 28\n",
            "[1,0] = [4*1 + 5*3 + 6*5] = 49\n",
            "[1,1] = [4*2 + 5*4 + 6*6] = 64\n",
            "***************\n",
            "[[22 28]\n",
            " [49 64]]\n"
          ]
        }
      ]
    },
    {
      "cell_type": "code",
      "source": [
        "#35. transponer un array(pivot pandas)\n",
        "transposed_array = np.transpose(array2)\n",
        "print(transposed_array)"
      ],
      "metadata": {
        "colab": {
          "base_uri": "https://localhost:8080/"
        },
        "id": "qA8oIaXgYAWK",
        "outputId": "3815f824-9855-48f0-f056-26c18097b5aa"
      },
      "execution_count": 67,
      "outputs": [
        {
          "output_type": "stream",
          "name": "stdout",
          "text": [
            "[[1 4]\n",
            " [2 5]\n",
            " [3 6]]\n"
          ]
        }
      ]
    },
    {
      "cell_type": "code",
      "source": [
        "#36. obtener la diagonal de un array\n",
        "diagonal = np.diag(array2)\n",
        "print(diagonal)"
      ],
      "metadata": {
        "colab": {
          "base_uri": "https://localhost:8080/"
        },
        "id": "Fx0fSRefYZlB",
        "outputId": "7dd307d8-ae88-4047-a634-6d8a66b24663"
      },
      "execution_count": 68,
      "outputs": [
        {
          "output_type": "stream",
          "name": "stdout",
          "text": [
            "[1 5]\n"
          ]
        }
      ]
    },
    {
      "cell_type": "code",
      "source": [
        "#37. Redondear cada elemento\n",
        "rounded_array = np.round(random_array)\n",
        "print(rounded_array)"
      ],
      "metadata": {
        "colab": {
          "base_uri": "https://localhost:8080/"
        },
        "id": "gHx78x4Za5OS",
        "outputId": "da6a6219-fa53-4dfa-9558-7d102274ad7e"
      },
      "execution_count": 72,
      "outputs": [
        {
          "output_type": "stream",
          "name": "stdout",
          "text": [
            "[[0. 0. 0.]\n",
            " [0. 0. 0.]\n",
            " [1. 1. 1.]\n",
            " [0. 1. 1.]]\n"
          ]
        }
      ]
    }
  ]
}